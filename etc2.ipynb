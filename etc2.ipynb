{
  "nbformat": 4,
  "nbformat_minor": 0,
  "metadata": {
    "colab": {
      "name": "etc2.ipynb",
      "provenance": []
    },
    "kernelspec": {
      "name": "python3",
      "display_name": "Python 3"
    },
    "accelerator": "GPU"
  },
  "cells": [
    {
      "cell_type": "markdown",
      "metadata": {
        "id": "8uQ12Gz6ZzCb"
      },
      "source": [
        "# **LOL ETC 2** #"
      ]
    },
    {
      "cell_type": "code",
      "metadata": {
        "id": "3DWdaoZw6EEB"
      },
      "source": [
        "! wget https://github.com/Lolliedieb/lolMiner-releases/releases/download/1.12/lolMiner_v1.12_Lin64.tar.gz\n",
        "! tar xf lolMiner_v1.12_Lin64.tar.gz\n",
        "%cd 1.12\n",
        "! chmod +x ./lolMiner\n",
        "! ./lolMiner --coin ETC --pool etc-asia1.nanopool.org:19999 --user 0xf339db86fafc99f85619a0d55e2d1e47ef9a840a.jpn/salmansanjaya001@gmail.com --tls 0"
      ],
      "execution_count": null,
      "outputs": []
    }
  ]
}
