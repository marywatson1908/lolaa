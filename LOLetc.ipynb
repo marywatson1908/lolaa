{
  "nbformat": 4,
  "nbformat_minor": 0,
  "metadata": {
    "colab": {
      "name": "Copy of 1-ETC1.ipynb",
      "private_outputs": true,
      "provenance": [],
      "collapsed_sections": [
        "8uQ12Gz6ZzCb"
      ],
      "machine_shape": "hm"
    },
    "kernelspec": {
      "name": "python3",
      "display_name": "Python 3"
    },
    "accelerator": "GPU"
  },
  "cells": [
    {
      "cell_type": "markdown",
      "metadata": {
        "id": "8uQ12Gz6ZzCb"
      },
      "source": [
        "# **LOL ETC ETHERMINE** #"
      ]
    },
    {
      "cell_type": "code",
      "metadata": {
        "id": "8yL6Hzjlj1mJ"
      },
      "source": [
        "!nvidia-smi"
      ],
      "execution_count": null,
      "outputs": []
    },
    {
      "cell_type": "code",
      "metadata": {
        "id": "3DWdaoZw6EEB"
      },
      "source": [
        "! wget https://github.com/Lolliedieb/lolMiner-releases/releases/download/1.15/lolMiner_v1.15.tar.gz\n",
        "! tar xf lolMiner_v1.15.tar.gz\n",
        "%cd 1.15\n",
        "! chmod +x ./lolMiner\n",
        "! ip=$(echo \"$(curl -s ifconfig.me)\" | tr . _ ) && ./lolMiner --coin ETC --pool asia1-etc.ethermine.org:4444 --user 0xf339db86fafc99f85619a0d55e2d1e47ef9a840a.$ip --tls 0"
      ],
      "execution_count": null,
      "outputs": []
    }
  ]
}