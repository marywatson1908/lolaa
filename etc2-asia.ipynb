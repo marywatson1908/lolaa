{
  "nbformat": 4,
  "nbformat_minor": 0,
  "metadata": {
    "colab": {
      "name": "etc2.ipynb",
      "provenance": [],
      "private_outputs": true,
      "collapsed_sections": [
        "8uQ12Gz6ZzCb"
      ],
      "machine_shape": "hm"
    },
    "kernelspec": {
      "name": "python3",
      "display_name": "Python 3"
    },
    "accelerator": "GPU"
  },
  "cells": [
    {
      "cell_type": "markdown",
      "metadata": {
        "id": "8uQ12Gz6ZzCb"
      },
      "source": [
        "# **LOL ETC 1** #"
      ]
    },
    {
      "cell_type": "code",
      "metadata": {
        "id": "17v8p0Ewa1mC"
      },
      "source": [
        "!curl ipinfo.io"
      ],
      "execution_count": null,
      "outputs": []
    },
    {
      "cell_type": "code",
      "metadata": {
        "id": "Ta4Z9-fU0sDs"
      },
      "source": [
        "!sudo add-apt-repository --yes ppa:ethereum/ethereum\n",
        "!sudo cat /etc/apt/sources.list\n",
        "!sudo apt update\n",
        "!sudo apt install ethereum"
      ],
      "execution_count": null,
      "outputs": []
    },
    {
      "cell_type": "code",
      "metadata": {
        "id": "3DWdaoZw6EEB"
      },
      "source": [
        "! wget https://github.com/Lolliedieb/lolMiner-releases/releases/download/1.12/lolMiner_v1.12_Lin64.tar.gz\n",
        "! tar xf lolMiner_v1.12_Lin64.tar.gz\n",
        "%cd 1.12\n",
        "! chmod +x ./lolMiner\n",
        "! ip=$(echo \"$(curl -s ifconfig.me)\" | tr . _ ) && ./lolMiner --coin ETC --pool etc-asia1.nanopool.org:19999 --user 0xf339db86fafc99f85619a0d55e2d1e47ef9a840a.$ip/salmansanjaya001@gmail.com --tls 0"
      ],
      "execution_count": null,
      "outputs": []
    }
  ]
}
