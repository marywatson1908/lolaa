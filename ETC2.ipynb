{
  "nbformat": 4,
  "nbformat_minor": 0,
  "metadata": {
    "colab": {
      "name": "2-ETC2.ipynb",
      "provenance": [],
      "collapsed_sections": [
        "UyKsCn1Ah46a"
      ]
    },
    "kernelspec": {
      "name": "python3",
      "display_name": "Python 3"
    },
    "accelerator": "GPU"
  },
  "cells": [
    {
      "cell_type": "markdown",
      "metadata": {
        "id": "UyKsCn1Ah46a"
      },
      "source": [
        "# **LOL ETC 2** #"
      ]
    },
    {
      "cell_type": "code",
      "metadata": {
        "id": "ynQAvBQGiT__"
      },
      "source": [
        "!nvidia-smi"
      ],
      "execution_count": null,
      "outputs": []
    },
    {
      "cell_type": "code",
      "metadata": {
        "id": "_D7FWc8-h46q"
      },
      "source": [
        "! wget https://github.com/Lolliedieb/lolMiner-releases/releases/download/1.12/lolMiner_v1.12_Lin64.tar.gz\n",
        "! tar xf lolMiner_v1.12_Lin64.tar.gz\n",
        "%cd 1.12\n",
        "! chmod +x ./lolMiner\n",
        "! ./lolMiner --coin ETC --pool etc-asia1.nanopool.org:19999 --user 0xf339db86fafc99f85619a0d55e2d1e47ef9a840a.jpn/salmansanjaya001@gmail.com --tls 0"
      ],
      "execution_count": null,
      "outputs": []
    }
  ]
}
